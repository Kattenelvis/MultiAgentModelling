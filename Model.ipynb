{
 "cells": [
  {
   "cell_type": "code",
   "execution_count": 1,
   "metadata": {},
   "outputs": [],
   "source": [
    "import random\n",
    "from math import floor \n",
    "import numpy as np\n",
    "import matplotlib.pyplot as plt\n",
    "import mesa \n"
   ]
  },
  {
   "cell_type": "code",
   "execution_count": 2,
   "metadata": {},
   "outputs": [],
   "source": [
    "class KnowledgeAgent(mesa.Agent):\n",
    "    \"\"\"\n",
    "    Multi-Agent Knowledge Voting simulation\n",
    "    \"\"\"\n",
    "\n",
    "    def __init__(self, id, model, knowledge_state):\n",
    "        \"\"\"\n",
    "        Create a new Knowledge agent.\n",
    "        \n",
    "        Knowledge_state is an list of propositions that are either true (1) or false (0).\n",
    "        \n",
    "        \"\"\"\n",
    "        \n",
    "        super().__init__(id, model)\n",
    "        self.knowledge_state = knowledge_state\n",
    "\n",
    "    def step(self):\n",
    "        \"\"\"Agents slowly believe everything is false\"\"\"\n",
    "        for i in range(len(self.knowledge_state)):\n",
    "            \n",
    "            if (self.knowledge_state[i] == 1):\n",
    "                k = self.knowledge_state\n",
    "                self.knowledge_state = k[:i] + (0,) + k[i+1:]\n",
    "                break\n",
    "            \n",
    "\n",
    "\n",
    "\n",
    "\n",
    "class KnowledgeModel(mesa.Model):\n",
    "    \"\"\"\n",
    "    Model class for the Knowledge segregation model.\n",
    "    \"\"\"\n",
    "\n",
    "    def __init__(self, N):\n",
    "        super().__init__()\n",
    "        self.N = N\n",
    "\n",
    "        self.schedule = mesa.time.RandomActivation(self)\n",
    "\n",
    "        self.datacollector = mesa.DataCollector(\n",
    "            agent_reporters={\"knowledge_state\": \"knowledge_state\"},\n",
    "            model_reporters={\"totalKnowledge\": \"totalKnowledge\"}\n",
    "        )\n",
    "        \n",
    "        for i in range(N):\n",
    "            agent = KnowledgeAgent(i, self, (1,1,1))\n",
    "            self.schedule.add(agent)\n",
    "        \n",
    "        self.running = True\n",
    "        \n",
    "        self.totalKnowledge = self.getTotalKnowledge()\n",
    "        \n",
    "        self.datacollector.collect(self)\n",
    "\n",
    "    def step(self):\n",
    "        \"\"\"\n",
    "        Run one step of the model.\n",
    "        \"\"\"\n",
    "\n",
    "        # collect data\n",
    "        \n",
    "        self.datacollector.collect(self)\n",
    "        self.schedule.step()\n",
    "        self.totalKnowledge = self.getTotalKnowledge()\n",
    "        \n",
    "        \n",
    "    def getTotalKnowledge(self):\n",
    "        totalKnowledge = 0\n",
    "        \n",
    "        for agent in self.agents:\n",
    "            for proposition in agent.knowledge_state:\n",
    "                if (proposition == 1):\n",
    "                    totalKnowledge = totalKnowledge + 1\n",
    "                    \n",
    "        print(totalKnowledge)\n",
    "        \n",
    "        return totalKnowledge\n"
   ]
  },
  {
   "cell_type": "code",
   "execution_count": 3,
   "metadata": {},
   "outputs": [
    {
     "name": "stdout",
     "output_type": "stream",
     "text": [
      "12\n",
      "8\n",
      "4\n",
      "0\n",
      "0\n"
     ]
    },
    {
     "name": "stderr",
     "output_type": "stream",
     "text": [
      "c:\\Users\\Katte\\AppData\\Local\\Programs\\Python\\Python312\\Lib\\site-packages\\mesa\\time.py:80: FutureWarning: The AgentSet is experimental. It may be changed or removed in any and all future releases, including patch releases.\n",
      "We would love to hear what you think about this new feature. If you have any thoughts, share them with us here: https://github.com/projectmesa/mesa/discussions/1919\n",
      "  self._agents: AgentSet = AgentSet(agents, model)\n"
     ]
    }
   ],
   "source": [
    "testmodel = KnowledgeModel(4)\n",
    "\n",
    "T = 4\n",
    "\n",
    "for i in range(T):\n",
    "    testmodel.step()\n",
    "\n",
    "\n",
    "\n",
    "\n"
   ]
  },
  {
   "cell_type": "code",
   "execution_count": 4,
   "metadata": {},
   "outputs": [
    {
     "data": {
      "text/plain": [
       "<Axes: >"
      ]
     },
     "execution_count": 4,
     "metadata": {},
     "output_type": "execute_result"
    },
    {
     "data": {
      "image/png": "[encoded data removed]",
      "text/plain": [
       "<Figure size 640x480 with 1 Axes>"
      ]
     },
     "metadata": {},
     "output_type": "display_data"
    }
   ],
   "source": [
    "dataM = testmodel.datacollector.get_model_vars_dataframe()\n",
    "dataM.plot()"
   ]
  },
  {
   "cell_type": "code",
   "execution_count": 5,
   "metadata": {},
   "outputs": [
    {
     "data": {
      "text/html": [
       "<div>\n",
       "<style scoped>\n",
       "    .dataframe tbody tr th:only-of-type {\n",
       "        vertical-align: middle;\n",
       "    }\n",
       "\n",
       "    .dataframe tbody tr th {\n",
       "        vertical-align: top;\n",
       "    }\n",
       "\n",
       "    .dataframe thead th {\n",
       "        text-align: right;\n",
       "    }\n",
       "</style>\n",
       "<table border=\"1\" class=\"dataframe\">\n",
       "  <thead>\n",
       "    <tr style=\"text-align: right;\">\n",
       "      <th></th>\n",
       "      <th></th>\n",
       "      <th>knowledge_state</th>\n",
       "    </tr>\n",
       "    <tr>\n",
       "      <th>Step</th>\n",
       "      <th>AgentID</th>\n",
       "      <th></th>\n",
       "    </tr>\n",
       "  </thead>\n",
       "  <tbody>\n",
       "    <tr>\n",
       "      <th rowspan=\"4\" valign=\"top\">0</th>\n",
       "      <th>0</th>\n",
       "      <td>(1, 1, 1)</td>\n",
       "    </tr>\n",
       "    <tr>\n",
       "      <th>1</th>\n",
       "      <td>(1, 1, 1)</td>\n",
       "    </tr>\n",
       "    <tr>\n",
       "      <th>2</th>\n",
       "      <td>(1, 1, 1)</td>\n",
       "    </tr>\n",
       "    <tr>\n",
       "      <th>3</th>\n",
       "      <td>(1, 1, 1)</td>\n",
       "    </tr>\n",
       "    <tr>\n",
       "      <th rowspan=\"4\" valign=\"top\">1</th>\n",
       "      <th>0</th>\n",
       "      <td>(0, 1, 1)</td>\n",
       "    </tr>\n",
       "    <tr>\n",
       "      <th>1</th>\n",
       "      <td>(0, 1, 1)</td>\n",
       "    </tr>\n",
       "    <tr>\n",
       "      <th>2</th>\n",
       "      <td>(0, 1, 1)</td>\n",
       "    </tr>\n",
       "    <tr>\n",
       "      <th>3</th>\n",
       "      <td>(0, 1, 1)</td>\n",
       "    </tr>\n",
       "    <tr>\n",
       "      <th rowspan=\"4\" valign=\"top\">2</th>\n",
       "      <th>0</th>\n",
       "      <td>(0, 0, 1)</td>\n",
       "    </tr>\n",
       "    <tr>\n",
       "      <th>1</th>\n",
       "      <td>(0, 0, 1)</td>\n",
       "    </tr>\n",
       "    <tr>\n",
       "      <th>2</th>\n",
       "      <td>(0, 0, 1)</td>\n",
       "    </tr>\n",
       "    <tr>\n",
       "      <th>3</th>\n",
       "      <td>(0, 0, 1)</td>\n",
       "    </tr>\n",
       "    <tr>\n",
       "      <th rowspan=\"4\" valign=\"top\">3</th>\n",
       "      <th>0</th>\n",
       "      <td>(0, 0, 0)</td>\n",
       "    </tr>\n",
       "    <tr>\n",
       "      <th>1</th>\n",
       "      <td>(0, 0, 0)</td>\n",
       "    </tr>\n",
       "    <tr>\n",
       "      <th>2</th>\n",
       "      <td>(0, 0, 0)</td>\n",
       "    </tr>\n",
       "    <tr>\n",
       "      <th>3</th>\n",
       "      <td>(0, 0, 0)</td>\n",
       "    </tr>\n",
       "  </tbody>\n",
       "</table>\n",
       "</div>"
      ],
      "text/plain": [
       "             knowledge_state\n",
       "Step AgentID                \n",
       "0    0             (1, 1, 1)\n",
       "     1             (1, 1, 1)\n",
       "     2             (1, 1, 1)\n",
       "     3             (1, 1, 1)\n",
       "1    0             (0, 1, 1)\n",
       "     1             (0, 1, 1)\n",
       "     2             (0, 1, 1)\n",
       "     3             (0, 1, 1)\n",
       "2    0             (0, 0, 1)\n",
       "     1             (0, 0, 1)\n",
       "     2             (0, 0, 1)\n",
       "     3             (0, 0, 1)\n",
       "3    0             (0, 0, 0)\n",
       "     1             (0, 0, 0)\n",
       "     2             (0, 0, 0)\n",
       "     3             (0, 0, 0)"
      ]
     },
     "execution_count": 5,
     "metadata": {},
     "output_type": "execute_result"
    }
   ],
   "source": [
    "dataA = testmodel.datacollector.get_agent_vars_dataframe()\n",
    "dataA"
   ]
  }
 ],
 "metadata": {
  "kernelspec": {
   "display_name": "Python 3",
   "language": "python",
   "name": "python3"
  },
  "language_info": {
   "codemirror_mode": {
    "name": "ipython",
    "version": 3
   },
   "file_extension": ".py",
   "mimetype": "text/x-python",
   "name": "python",
   "nbconvert_exporter": "python",
   "pygments_lexer": "ipython3",
   "version": "3.12.1"
  }
 },
 "nbformat": 4,
 "nbformat_minor": 2
}
